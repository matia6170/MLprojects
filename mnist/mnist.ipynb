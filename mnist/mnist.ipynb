{
 "cells": [
  {
   "cell_type": "code",
   "execution_count": 2,
   "metadata": {},
   "outputs": [],
   "source": [
    "from keras.datasets import mnist\n",
    "from keras.utils import to_categorical\n",
    "import numpy as np\n",
    "import sys\n",
    "import tensorflow as tf\n",
    "\n",
    "import matplotlib.pyplot as plt"
   ]
  },
  {
   "cell_type": "code",
   "execution_count": 3,
   "metadata": {},
   "outputs": [],
   "source": [
    "seed = 0;\n",
    "np.random.seed(seed)\n",
    "tf.random.set_seed(seed)"
   ]
  },
  {
   "cell_type": "code",
   "execution_count": 4,
   "metadata": {},
   "outputs": [],
   "source": [
    "# Load the data\n",
    "(x_train, y_train), (x_test, y_test) = mnist.load_data()"
   ]
  },
  {
   "cell_type": "code",
   "execution_count": 5,
   "metadata": {},
   "outputs": [
    {
     "name": "stdout",
     "output_type": "stream",
     "text": [
      "x_train shape: (60000, 28, 28) x_test shape: (10000, 28, 28)\n",
      "y_train shape: (60000,) y_test shape: (10000,)\n"
     ]
    }
   ],
   "source": [
    "print(\"x_train shape:\", x_train.shape, \"x_test shape:\", x_test.shape)\n",
    "print(\"y_train shape:\", y_train.shape, \"y_test shape:\", y_test.shape)"
   ]
  },
  {
   "cell_type": "code",
   "execution_count": 6,
   "metadata": {},
   "outputs": [
    {
     "data": {
      "image/png": "[encoded data removed]",
      "text/plain": [
       "<Figure size 640x480 with 1 Axes>"
      ]
     },
     "metadata": {},
     "output_type": "display_data"
    }
   ],
   "source": [
    "plt.imshow(x_train[0], cmap='Greys')\n",
    "plt.show()"
   ]
  },
  {
   "cell_type": "code",
   "execution_count": 7,
   "metadata": {},
   "outputs": [],
   "source": [
    "x_train = x_train.reshape(60000, 784).astype('float32') / 255.0\n",
    "x_test = x_test.reshape(10000, 784).astype('float32') / 255.0"
   ]
  },
  {
   "cell_type": "code",
   "execution_count": 8,
   "metadata": {},
   "outputs": [
    {
     "name": "stdout",
     "output_type": "stream",
     "text": [
      "class label for first sample in x_train:  5\n"
     ]
    }
   ],
   "source": [
    "print(\"class label for first sample in x_train: \", y_train[0])"
   ]
  },
  {
   "cell_type": "code",
   "execution_count": 9,
   "metadata": {},
   "outputs": [],
   "source": [
    "y_train = to_categorical(y_train, 10)\n",
    "y_test = to_categorical(y_test, 10)"
   ]
  },
  {
   "cell_type": "code",
   "execution_count": 10,
   "metadata": {},
   "outputs": [],
   "source": [
    "from keras.models import Sequential\n",
    "from keras.layers import Dense\n",
    "from keras.callbacks import ModelCheckpoint,EarlyStopping\n",
    "import os"
   ]
  },
  {
   "cell_type": "code",
   "execution_count": 11,
   "metadata": {},
   "outputs": [],
   "source": [
    "model = Sequential()\n",
    "model.add(Dense(512, input_dim=784, activation='relu'))\n",
    "model = Sequential([\n",
    "    Dense(512, input_dim=784, activation='relu'),\n",
    "    Dense(10, activation='softmax')\n",
    "])\n",
    "\n"
   ]
  },
  {
   "cell_type": "code",
   "execution_count": 12,
   "metadata": {},
   "outputs": [],
   "source": [
    "model.compile(loss='categorical_crossentropy', optimizer='adam', metrics=['accuracy'])"
   ]
  },
  {
   "cell_type": "code",
   "execution_count": 13,
   "metadata": {},
   "outputs": [],
   "source": [
    "MODEL_DIR = './model/'\n",
    "if not os.path.exists(MODEL_DIR):\n",
    "    os.mkdir(MODEL_DIR)\n",
    "\n",
    "modelpath=\"./model/{epoch:02d}-{val_loss:.4f}.hdf5\"\n",
    "checkpointer = ModelCheckpoint(filepath=modelpath, monitor='val_loss', verbose=1, save_best_only=True)\n",
    "early_stopping_callback = EarlyStopping(monitor='val_loss', patience=10)"
   ]
  },
  {
   "cell_type": "code",
   "execution_count": 14,
   "metadata": {},
   "outputs": [
    {
     "name": "stdout",
     "output_type": "stream",
     "text": [
      "\n",
      "Epoch 1: val_loss improved from inf to 0.15190, saving model to ./model/01-0.1519.hdf5\n"
     ]
    },
    {
     "name": "stderr",
     "output_type": "stream",
     "text": [
      "/Users/matia/anaconda3/envs/py38/lib/python3.8/site-packages/keras/src/engine/training.py:3000: UserWarning: You are saving your model as an HDF5 file via `model.save()`. This file format is considered legacy. We recommend using instead the native Keras format, e.g. `model.save('my_model.keras')`.\n",
      "  saving_api.save_model(\n"
     ]
    },
    {
     "name": "stdout",
     "output_type": "stream",
     "text": [
      "\n",
      "Epoch 2: val_loss improved from 0.15190 to 0.10679, saving model to ./model/02-0.1068.hdf5\n",
      "\n",
      "Epoch 3: val_loss improved from 0.10679 to 0.08110, saving model to ./model/03-0.0811.hdf5\n",
      "\n",
      "Epoch 4: val_loss improved from 0.08110 to 0.07755, saving model to ./model/04-0.0775.hdf5\n",
      "\n",
      "Epoch 5: val_loss improved from 0.07755 to 0.06818, saving model to ./model/05-0.0682.hdf5\n",
      "\n",
      "Epoch 6: val_loss improved from 0.06818 to 0.06648, saving model to ./model/06-0.0665.hdf5\n",
      "\n",
      "Epoch 7: val_loss improved from 0.06648 to 0.06424, saving model to ./model/07-0.0642.hdf5\n",
      "\n",
      "Epoch 8: val_loss improved from 0.06424 to 0.06351, saving model to ./model/08-0.0635.hdf5\n",
      "\n",
      "Epoch 9: val_loss improved from 0.06351 to 0.06098, saving model to ./model/09-0.0610.hdf5\n",
      "\n",
      "Epoch 10: val_loss did not improve from 0.06098\n",
      "\n",
      "Epoch 11: val_loss did not improve from 0.06098\n",
      "\n",
      "Epoch 12: val_loss did not improve from 0.06098\n",
      "\n",
      "Epoch 13: val_loss did not improve from 0.06098\n",
      "\n",
      "Epoch 14: val_loss did not improve from 0.06098\n",
      "\n",
      "Epoch 15: val_loss did not improve from 0.06098\n",
      "\n",
      "Epoch 16: val_loss did not improve from 0.06098\n",
      "\n",
      "Epoch 17: val_loss did not improve from 0.06098\n",
      "\n",
      "Epoch 18: val_loss did not improve from 0.06098\n",
      "\n",
      "Epoch 19: val_loss did not improve from 0.06098\n"
     ]
    }
   ],
   "source": [
    "run = model.fit(x_train, y_train, validation_data=(x_test, y_test), epochs=30, batch_size=200, verbose=0, callbacks=[early_stopping_callback,checkpointer])"
   ]
  },
  {
   "cell_type": "code",
   "execution_count": 15,
   "metadata": {},
   "outputs": [
    {
     "name": "stdout",
     "output_type": "stream",
     "text": [
      "313/313 [==============================] - 0s 797us/step - loss: 0.0686 - accuracy: 0.9822\n",
      "\n",
      " Test Accuracy: 0.9822\n"
     ]
    }
   ],
   "source": [
    "print(\"\\n Test Accuracy: %.4f\" % (model.evaluate(x_test, y_test)[1]))"
   ]
  },
  {
   "cell_type": "code",
   "execution_count": 16,
   "metadata": {},
   "outputs": [
    {
     "data": {
      "image/png": "[encoded data removed]",
      "text/plain": [
       "<Figure size 640x480 with 1 Axes>"
      ]
     },
     "metadata": {},
     "output_type": "display_data"
    },
    {
     "name": "stdout",
     "output_type": "stream",
     "text": [
      "(28, 28, 1)\n",
      "1/1 [==============================] - 0s 34ms/step\n",
      "Predicted label: 6\n",
      "Expected label: 6\n"
     ]
    }
   ],
   "source": [
    "from keras.models import load_model\n",
    "# Select a random index from x_test\n",
    "index = np.random.randint(0, len(x_test))\n",
    "\n",
    "\n",
    "\n",
    "# Get the corresponding image from x_test\n",
    "image = x_test[index]\n",
    "\n",
    "# Specify the path to the model file\n",
    "model_file = './model/01-0.1518.hdf5'\n",
    "\n",
    "# Load the model\n",
    "new_model = load_model(model_file)\n",
    "\n",
    "#print(\"\\n Test Accuracy: %.4f\" % (new_model.evaluate(x_test, y_test)[1]))\n",
    "\n",
    "test = image.reshape(28, 28, 1)\n",
    "plt.imshow(test, cmap='Greys')\n",
    "plt.show()\n",
    "print(test.shape)\n",
    "\n",
    "\n",
    "# Reshape the image to match the input shape of the model\n",
    "image = image.reshape(1, 784)\n",
    "\n",
    "# Make the prediction\n",
    "prediction = new_model.predict(image)\n",
    "\n",
    "# Get the predicted class label\n",
    "predicted_label = np.argmax(prediction)\n",
    "\n",
    "# Get the expected output label\n",
    "expected_label = np.argmax(y_test[index])\n",
    "\n",
    "# Print the predicted and expected labels\n",
    "print(\"Predicted label:\", predicted_label)\n",
    "print(\"Expected label:\", expected_label)\n"
   ]
  },
  {
   "cell_type": "code",
   "execution_count": 17,
   "metadata": {},
   "outputs": [
    {
     "data": {
      "image/png": "[encoded data removed]",
      "text/plain": [
       "<Figure size 640x480 with 1 Axes>"
      ]
     },
     "metadata": {},
     "output_type": "display_data"
    }
   ],
   "source": [
    "# Plotting the loss values for the train and test sets\n",
    "\n",
    "# Get the validation loss values from the training history\n",
    "y_vloss = run.history['val_loss']\n",
    "\n",
    "# Get the training loss values from the training history\n",
    "y_loss = run.history['loss']\n",
    "\n",
    "# Create an array of x values for the number of epochs\n",
    "x_len = np.arange(len(y_loss))\n",
    "\n",
    "# Plot the test set loss values\n",
    "plt.plot(x_len, y_vloss, marker='.', c='red', label='Testset_loss')\n",
    "\n",
    "# Plot the train set loss values\n",
    "plt.plot(x_len, y_loss, marker='.', c='blue', label='Trainset_loss')\n",
    "\n",
    "# Add a legend to the plot\n",
    "plt.legend(loc='upper right')\n",
    "\n",
    "# Add grid lines to the plot\n",
    "plt.grid()\n",
    "\n",
    "# Add labels to the x and y axes\n",
    "plt.xlabel('epoch')\n",
    "plt.ylabel('loss')\n",
    "\n",
    "# Display the plot\n",
    "plt.show()"
   ]
  }
 ],
 "metadata": {
  "kernelspec": {
   "display_name": "py38",
   "language": "python",
   "name": "python3"
  },
  "language_info": {
   "codemirror_mode": {
    "name": "ipython",
    "version": 3
   },
   "file_extension": ".py",
   "mimetype": "text/x-python",
   "name": "python",
   "nbconvert_exporter": "python",
   "pygments_lexer": "ipython3",
   "version": "3.8.18"
  }
 },
 "nbformat": 4,
 "nbformat_minor": 2
}
